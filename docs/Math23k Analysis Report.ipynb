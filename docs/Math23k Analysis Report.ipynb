{
 "metadata": {
  "language_info": {
   "codemirror_mode": {
    "name": "ipython",
    "version": 3
   },
   "file_extension": ".py",
   "mimetype": "text/x-python",
   "name": "python",
   "nbconvert_exporter": "python",
   "pygments_lexer": "ipython3",
   "version": "3.8.8"
  },
  "orig_nbformat": 2,
  "kernelspec": {
   "name": "python3",
   "display_name": "Python 3",
   "language": "python"
  }
 },
 "nbformat": 4,
 "nbformat_minor": 2,
 "cells": [
  {
   "source": [
    "# Math23k Analysis Report"
   ],
   "cell_type": "markdown",
   "metadata": {}
  },
  {
   "source": [
    "## Data Description\n",
    "| Field             | Annotation                                          |\n",
    "| --------          | --------------------------------------------------- |\n",
    "| id                | Id of the problem |\n",
    "| original_text\t    | Original text of the problem |\n",
    "| equation          | Solution to the problem |\n",
    "| segmented_text    | Chinese word segmentation of the problem |\n"
   ],
   "cell_type": "markdown",
   "metadata": {}
  },
  {
   "cell_type": "code",
   "execution_count": 11,
   "metadata": {},
   "outputs": [],
   "source": [
    "import numpy as np\n",
    "import pandas as pd\n",
    "import jieba\n",
    "\n",
    "import plotly.express as px\n",
    "from plotly.subplots import make_subplots\n",
    "import plotly.graph_objs as go"
   ]
  },
  {
   "cell_type": "code",
   "execution_count": 12,
   "metadata": {},
   "outputs": [],
   "source": [
    "path = \"../raw_data/math23k/raw/train23k.json\"\n",
    "\n",
    "data = pd.read_json(path, orient='records')"
   ]
  },
  {
   "source": [
    "## Record Examples"
   ],
   "cell_type": "markdown",
   "metadata": {}
  },
  {
   "cell_type": "code",
   "execution_count": 13,
   "metadata": {},
   "outputs": [
    {
     "output_type": "execute_result",
     "data": {
      "text/plain": [
       "      id                                      original_text  \\\n",
       "0    946              甲数除以乙数的商是1.5，如果甲数增加20，则甲数是乙的4倍．原来甲数=．   \n",
       "1  21227  客车和货车分别从A、B两站同时相向开出，5小时后相遇．相遇后，两车仍按原速度前进，当它们相距...   \n",
       "2  16892          图书角有书30本，第一天借出了(1/5)，第二天又还回5本，现在图书角有多少本书？   \n",
       "3   8502  甲、乙两车同时从相距230千米的两地相向而行，3小时后两车还相距35千米．已知甲车每小时行4...   \n",
       "4  23021                        果园里有苹果树300棵，比桔树多20%，桔树有多少棵？   \n",
       "\n",
       "                    equation  \\\n",
       "0           x=20/(4-1.5)*1.5   \n",
       "1  x=196/(80%+((3)/(3+2))-1)   \n",
       "2           x=30*(1-(1/5))+5   \n",
       "3            x=(230-35)/3-48   \n",
       "4              x=300/(1+20%)   \n",
       "\n",
       "                                      segmented_text  \n",
       "0  甲 数 除以 乙 数 的 商 是 1.5 ， 如果 甲 数 增加 20 ， 则 甲 数 是 ...  \n",
       "1  客车 和 货车 分别 从 A 、 B 两站 同时 相向 开出 ， 5 小时 后 相遇 ． 相...  \n",
       "2  图书 角 有 书 30 本 ， 第一天 借出 了 (1/5) ， 第 二 天 又 还 回 5...  \n",
       "3  甲 、 乙 两车 同时 从 相距 230 千米 的 两地 相向 而 行 ， 3 小时 后 两...  \n",
       "4        果园 里 有 苹果树 300 棵 ， 比 桔树 多 20% ， 桔树 有 多少 棵 ？  "
      ],
      "text/html": "<div>\n<style scoped>\n    .dataframe tbody tr th:only-of-type {\n        vertical-align: middle;\n    }\n\n    .dataframe tbody tr th {\n        vertical-align: top;\n    }\n\n    .dataframe thead th {\n        text-align: right;\n    }\n</style>\n<table border=\"1\" class=\"dataframe\">\n  <thead>\n    <tr style=\"text-align: right;\">\n      <th></th>\n      <th>id</th>\n      <th>original_text</th>\n      <th>equation</th>\n      <th>segmented_text</th>\n    </tr>\n  </thead>\n  <tbody>\n    <tr>\n      <th>0</th>\n      <td>946</td>\n      <td>甲数除以乙数的商是1.5，如果甲数增加20，则甲数是乙的4倍．原来甲数=．</td>\n      <td>x=20/(4-1.5)*1.5</td>\n      <td>甲 数 除以 乙 数 的 商 是 1.5 ， 如果 甲 数 增加 20 ， 则 甲 数 是 ...</td>\n    </tr>\n    <tr>\n      <th>1</th>\n      <td>21227</td>\n      <td>客车和货车分别从A、B两站同时相向开出，5小时后相遇．相遇后，两车仍按原速度前进，当它们相距...</td>\n      <td>x=196/(80%+((3)/(3+2))-1)</td>\n      <td>客车 和 货车 分别 从 A 、 B 两站 同时 相向 开出 ， 5 小时 后 相遇 ． 相...</td>\n    </tr>\n    <tr>\n      <th>2</th>\n      <td>16892</td>\n      <td>图书角有书30本，第一天借出了(1/5)，第二天又还回5本，现在图书角有多少本书？</td>\n      <td>x=30*(1-(1/5))+5</td>\n      <td>图书 角 有 书 30 本 ， 第一天 借出 了 (1/5) ， 第 二 天 又 还 回 5...</td>\n    </tr>\n    <tr>\n      <th>3</th>\n      <td>8502</td>\n      <td>甲、乙两车同时从相距230千米的两地相向而行，3小时后两车还相距35千米．已知甲车每小时行4...</td>\n      <td>x=(230-35)/3-48</td>\n      <td>甲 、 乙 两车 同时 从 相距 230 千米 的 两地 相向 而 行 ， 3 小时 后 两...</td>\n    </tr>\n    <tr>\n      <th>4</th>\n      <td>23021</td>\n      <td>果园里有苹果树300棵，比桔树多20%，桔树有多少棵？</td>\n      <td>x=300/(1+20%)</td>\n      <td>果园 里 有 苹果树 300 棵 ， 比 桔树 多 20% ， 桔树 有 多少 棵 ？</td>\n    </tr>\n  </tbody>\n</table>\n</div>"
     },
     "metadata": {},
     "execution_count": 13
    }
   ],
   "source": [
    "data.head()"
   ]
  },
  {
   "cell_type": "code",
   "execution_count": 14,
   "metadata": {},
   "outputs": [
    {
     "output_type": "execute_result",
     "data": {
      "text/plain": [
       "                 id\n",
       "count  21162.000000\n",
       "mean   11591.289434\n",
       "std     6692.866886\n",
       "min        1.000000\n",
       "25%     5801.250000\n",
       "50%    11579.500000\n",
       "75%    17383.750000\n",
       "max    23162.000000"
      ],
      "text/html": "<div>\n<style scoped>\n    .dataframe tbody tr th:only-of-type {\n        vertical-align: middle;\n    }\n\n    .dataframe tbody tr th {\n        vertical-align: top;\n    }\n\n    .dataframe thead th {\n        text-align: right;\n    }\n</style>\n<table border=\"1\" class=\"dataframe\">\n  <thead>\n    <tr style=\"text-align: right;\">\n      <th></th>\n      <th>id</th>\n    </tr>\n  </thead>\n  <tbody>\n    <tr>\n      <th>count</th>\n      <td>21162.000000</td>\n    </tr>\n    <tr>\n      <th>mean</th>\n      <td>11591.289434</td>\n    </tr>\n    <tr>\n      <th>std</th>\n      <td>6692.866886</td>\n    </tr>\n    <tr>\n      <th>min</th>\n      <td>1.000000</td>\n    </tr>\n    <tr>\n      <th>25%</th>\n      <td>5801.250000</td>\n    </tr>\n    <tr>\n      <th>50%</th>\n      <td>11579.500000</td>\n    </tr>\n    <tr>\n      <th>75%</th>\n      <td>17383.750000</td>\n    </tr>\n    <tr>\n      <th>max</th>\n      <td>23162.000000</td>\n    </tr>\n  </tbody>\n</table>\n</div>"
     },
     "metadata": {},
     "execution_count": 14
    }
   ],
   "source": [
    "data.describe()"
   ]
  },
  {
   "source": [
    "## The number of problems"
   ],
   "cell_type": "markdown",
   "metadata": {}
  },
  {
   "cell_type": "code",
   "execution_count": 15,
   "metadata": {},
   "outputs": [
    {
     "output_type": "execute_result",
     "data": {
      "text/plain": [
       "21162"
      ]
     },
     "metadata": {},
     "execution_count": 15
    }
   ],
   "source": [
    "len(data['id'].unique())"
   ]
  },
  {
   "source": [
    "## Part of missing values for every column"
   ],
   "cell_type": "markdown",
   "metadata": {}
  },
  {
   "cell_type": "code",
   "execution_count": 16,
   "metadata": {},
   "outputs": [
    {
     "output_type": "execute_result",
     "data": {
      "text/plain": [
       "id                0.0\n",
       "original_text     0.0\n",
       "equation          0.0\n",
       "segmented_text    0.0\n",
       "dtype: float64"
      ]
     },
     "metadata": {},
     "execution_count": 16
    }
   ],
   "source": [
    "data.isnull().sum() / len(data)"
   ]
  },
  {
   "cell_type": "code",
   "execution_count": 17,
   "metadata": {},
   "outputs": [
    {
     "output_type": "execute_result",
     "data": {
      "text/plain": [
       "      id                                      original_text  \\\n",
       "0    946              甲数除以乙数的商是1.5，如果甲数增加20，则甲数是乙的4倍．原来甲数=．   \n",
       "1  21227  客车和货车分别从A、B两站同时相向开出，5小时后相遇．相遇后，两车仍按原速度前进，当它们相距...   \n",
       "2  16892          图书角有书30本，第一天借出了(1/5)，第二天又还回5本，现在图书角有多少本书？   \n",
       "3   8502  甲、乙两车同时从相距230千米的两地相向而行，3小时后两车还相距35千米．已知甲车每小时行4...   \n",
       "4  23021                        果园里有苹果树300棵，比桔树多20%，桔树有多少棵？   \n",
       "\n",
       "                    equation  \\\n",
       "0           x=20/(4-1.5)*1.5   \n",
       "1  x=196/(80%+((3)/(3+2))-1)   \n",
       "2           x=30*(1-(1/5))+5   \n",
       "3            x=(230-35)/3-48   \n",
       "4              x=300/(1+20%)   \n",
       "\n",
       "                                      segmented_text  \\\n",
       "0  甲 数 除以 乙 数 的 商 是 1.5 ， 如果 甲 数 增加 20 ， 则 甲 数 是 ...   \n",
       "1  客车 和 货车 分别 从 A 、 B 两站 同时 相向 开出 ， 5 小时 后 相遇 ． 相...   \n",
       "2  图书 角 有 书 30 本 ， 第一天 借出 了 (1/5) ， 第 二 天 又 还 回 5...   \n",
       "3  甲 、 乙 两车 同时 从 相距 230 千米 的 两地 相向 而 行 ， 3 小时 后 两...   \n",
       "4        果园 里 有 苹果树 300 棵 ， 比 桔树 多 20% ， 桔树 有 多少 棵 ？   \n",
       "\n",
       "                                             content  \n",
       "0  [甲数, 除以, 乙数, 的, 商是, 1.5, ，, 如果, 甲数, 增加, 20, ，,...  \n",
       "1  [客车, 和, 货车, 分别, 从, A, 、, B, 两站, 同时, 相向, 开出, ，,...  \n",
       "2  [图书, 角有, 书, 30, 本, ，, 第一天, 借出, 了, (, 1, /, 5, ...  \n",
       "3  [甲, 、, 乙, 两车, 同时, 从, 相距, 230, 千米, 的, 两地, 相向, 而...  \n",
       "4  [果园, 里, 有, 苹果树, 300, 棵, ，, 比, 桔树, 多, 20%, ，, 桔...  "
      ],
      "text/html": "<div>\n<style scoped>\n    .dataframe tbody tr th:only-of-type {\n        vertical-align: middle;\n    }\n\n    .dataframe tbody tr th {\n        vertical-align: top;\n    }\n\n    .dataframe thead th {\n        text-align: right;\n    }\n</style>\n<table border=\"1\" class=\"dataframe\">\n  <thead>\n    <tr style=\"text-align: right;\">\n      <th></th>\n      <th>id</th>\n      <th>original_text</th>\n      <th>equation</th>\n      <th>segmented_text</th>\n      <th>content</th>\n    </tr>\n  </thead>\n  <tbody>\n    <tr>\n      <th>0</th>\n      <td>946</td>\n      <td>甲数除以乙数的商是1.5，如果甲数增加20，则甲数是乙的4倍．原来甲数=．</td>\n      <td>x=20/(4-1.5)*1.5</td>\n      <td>甲 数 除以 乙 数 的 商 是 1.5 ， 如果 甲 数 增加 20 ， 则 甲 数 是 ...</td>\n      <td>[甲数, 除以, 乙数, 的, 商是, 1.5, ，, 如果, 甲数, 增加, 20, ，,...</td>\n    </tr>\n    <tr>\n      <th>1</th>\n      <td>21227</td>\n      <td>客车和货车分别从A、B两站同时相向开出，5小时后相遇．相遇后，两车仍按原速度前进，当它们相距...</td>\n      <td>x=196/(80%+((3)/(3+2))-1)</td>\n      <td>客车 和 货车 分别 从 A 、 B 两站 同时 相向 开出 ， 5 小时 后 相遇 ． 相...</td>\n      <td>[客车, 和, 货车, 分别, 从, A, 、, B, 两站, 同时, 相向, 开出, ，,...</td>\n    </tr>\n    <tr>\n      <th>2</th>\n      <td>16892</td>\n      <td>图书角有书30本，第一天借出了(1/5)，第二天又还回5本，现在图书角有多少本书？</td>\n      <td>x=30*(1-(1/5))+5</td>\n      <td>图书 角 有 书 30 本 ， 第一天 借出 了 (1/5) ， 第 二 天 又 还 回 5...</td>\n      <td>[图书, 角有, 书, 30, 本, ，, 第一天, 借出, 了, (, 1, /, 5, ...</td>\n    </tr>\n    <tr>\n      <th>3</th>\n      <td>8502</td>\n      <td>甲、乙两车同时从相距230千米的两地相向而行，3小时后两车还相距35千米．已知甲车每小时行4...</td>\n      <td>x=(230-35)/3-48</td>\n      <td>甲 、 乙 两车 同时 从 相距 230 千米 的 两地 相向 而 行 ， 3 小时 后 两...</td>\n      <td>[甲, 、, 乙, 两车, 同时, 从, 相距, 230, 千米, 的, 两地, 相向, 而...</td>\n    </tr>\n    <tr>\n      <th>4</th>\n      <td>23021</td>\n      <td>果园里有苹果树300棵，比桔树多20%，桔树有多少棵？</td>\n      <td>x=300/(1+20%)</td>\n      <td>果园 里 有 苹果树 300 棵 ， 比 桔树 多 20% ， 桔树 有 多少 棵 ？</td>\n      <td>[果园, 里, 有, 苹果树, 300, 棵, ，, 比, 桔树, 多, 20%, ，, 桔...</td>\n    </tr>\n  </tbody>\n</table>\n</div>"
     },
     "metadata": {},
     "execution_count": 17
    }
   ],
   "source": [
    "def cut_word(text):\n",
    "    return jieba.lcut(text)\n",
    "data['content']=data['original_text'].apply(cut_word)\n",
    "data.head()"
   ]
  },
  {
   "source": [
    "## Count of words of problems"
   ],
   "cell_type": "markdown",
   "metadata": {}
  },
  {
   "cell_type": "code",
   "execution_count": 18,
   "metadata": {},
   "outputs": [
    {
     "output_type": "execute_result",
     "data": {
      "text/plain": [
       "      id                                      original_text  \\\n",
       "0    946              甲数除以乙数的商是1.5，如果甲数增加20，则甲数是乙的4倍．原来甲数=．   \n",
       "1  21227  客车和货车分别从A、B两站同时相向开出，5小时后相遇．相遇后，两车仍按原速度前进，当它们相距...   \n",
       "2  16892          图书角有书30本，第一天借出了(1/5)，第二天又还回5本，现在图书角有多少本书？   \n",
       "3   8502  甲、乙两车同时从相距230千米的两地相向而行，3小时后两车还相距35千米．已知甲车每小时行4...   \n",
       "4  23021                        果园里有苹果树300棵，比桔树多20%，桔树有多少棵？   \n",
       "\n",
       "                    equation  \\\n",
       "0           x=20/(4-1.5)*1.5   \n",
       "1  x=196/(80%+((3)/(3+2))-1)   \n",
       "2           x=30*(1-(1/5))+5   \n",
       "3            x=(230-35)/3-48   \n",
       "4              x=300/(1+20%)   \n",
       "\n",
       "                                      segmented_text  \\\n",
       "0  甲 数 除以 乙 数 的 商 是 1.5 ， 如果 甲 数 增加 20 ， 则 甲 数 是 ...   \n",
       "1  客车 和 货车 分别 从 A 、 B 两站 同时 相向 开出 ， 5 小时 后 相遇 ． 相...   \n",
       "2  图书 角 有 书 30 本 ， 第一天 借出 了 (1/5) ， 第 二 天 又 还 回 5...   \n",
       "3  甲 、 乙 两车 同时 从 相距 230 千米 的 两地 相向 而 行 ， 3 小时 后 两...   \n",
       "4        果园 里 有 苹果树 300 棵 ， 比 桔树 多 20% ， 桔树 有 多少 棵 ？   \n",
       "\n",
       "                                             content  word_count  \n",
       "0  [甲数, 除以, 乙数, 的, 商是, 1.5, ，, 如果, 甲数, 增加, 20, ，,...          24  \n",
       "1  [客车, 和, 货车, 分别, 从, A, 、, B, 两站, 同时, 相向, 开出, ，,...          63  \n",
       "2  [图书, 角有, 书, 30, 本, ，, 第一天, 借出, 了, (, 1, /, 5, ...          28  \n",
       "3  [甲, 、, 乙, 两车, 同时, 从, 相距, 230, 千米, 的, 两地, 相向, 而...          38  \n",
       "4  [果园, 里, 有, 苹果树, 300, 棵, ，, 比, 桔树, 多, 20%, ，, 桔...          17  "
      ],
      "text/html": "<div>\n<style scoped>\n    .dataframe tbody tr th:only-of-type {\n        vertical-align: middle;\n    }\n\n    .dataframe tbody tr th {\n        vertical-align: top;\n    }\n\n    .dataframe thead th {\n        text-align: right;\n    }\n</style>\n<table border=\"1\" class=\"dataframe\">\n  <thead>\n    <tr style=\"text-align: right;\">\n      <th></th>\n      <th>id</th>\n      <th>original_text</th>\n      <th>equation</th>\n      <th>segmented_text</th>\n      <th>content</th>\n      <th>word_count</th>\n    </tr>\n  </thead>\n  <tbody>\n    <tr>\n      <th>0</th>\n      <td>946</td>\n      <td>甲数除以乙数的商是1.5，如果甲数增加20，则甲数是乙的4倍．原来甲数=．</td>\n      <td>x=20/(4-1.5)*1.5</td>\n      <td>甲 数 除以 乙 数 的 商 是 1.5 ， 如果 甲 数 增加 20 ， 则 甲 数 是 ...</td>\n      <td>[甲数, 除以, 乙数, 的, 商是, 1.5, ，, 如果, 甲数, 增加, 20, ，,...</td>\n      <td>24</td>\n    </tr>\n    <tr>\n      <th>1</th>\n      <td>21227</td>\n      <td>客车和货车分别从A、B两站同时相向开出，5小时后相遇．相遇后，两车仍按原速度前进，当它们相距...</td>\n      <td>x=196/(80%+((3)/(3+2))-1)</td>\n      <td>客车 和 货车 分别 从 A 、 B 两站 同时 相向 开出 ， 5 小时 后 相遇 ． 相...</td>\n      <td>[客车, 和, 货车, 分别, 从, A, 、, B, 两站, 同时, 相向, 开出, ，,...</td>\n      <td>63</td>\n    </tr>\n    <tr>\n      <th>2</th>\n      <td>16892</td>\n      <td>图书角有书30本，第一天借出了(1/5)，第二天又还回5本，现在图书角有多少本书？</td>\n      <td>x=30*(1-(1/5))+5</td>\n      <td>图书 角 有 书 30 本 ， 第一天 借出 了 (1/5) ， 第 二 天 又 还 回 5...</td>\n      <td>[图书, 角有, 书, 30, 本, ，, 第一天, 借出, 了, (, 1, /, 5, ...</td>\n      <td>28</td>\n    </tr>\n    <tr>\n      <th>3</th>\n      <td>8502</td>\n      <td>甲、乙两车同时从相距230千米的两地相向而行，3小时后两车还相距35千米．已知甲车每小时行4...</td>\n      <td>x=(230-35)/3-48</td>\n      <td>甲 、 乙 两车 同时 从 相距 230 千米 的 两地 相向 而 行 ， 3 小时 后 两...</td>\n      <td>[甲, 、, 乙, 两车, 同时, 从, 相距, 230, 千米, 的, 两地, 相向, 而...</td>\n      <td>38</td>\n    </tr>\n    <tr>\n      <th>4</th>\n      <td>23021</td>\n      <td>果园里有苹果树300棵，比桔树多20%，桔树有多少棵？</td>\n      <td>x=300/(1+20%)</td>\n      <td>果园 里 有 苹果树 300 棵 ， 比 桔树 多 20% ， 桔树 有 多少 棵 ？</td>\n      <td>[果园, 里, 有, 苹果树, 300, 棵, ，, 比, 桔树, 多, 20%, ，, 桔...</td>\n      <td>17</td>\n    </tr>\n  </tbody>\n</table>\n</div>"
     },
     "metadata": {},
     "execution_count": 18
    }
   ],
   "source": [
    "def getsize(ser):\n",
    "    return len(ser)\n",
    "\n",
    "data['word_count']=data['content'].apply(getsize)\n",
    "data.head()"
   ]
  },
  {
   "source": [
    "## delete stopword"
   ],
   "cell_type": "markdown",
   "metadata": {}
  },
  {
   "cell_type": "code",
   "execution_count": 19,
   "metadata": {},
   "outputs": [
    {
     "output_type": "execute_result",
     "data": {
      "text/plain": [
       "      id                                      original_text  \\\n",
       "0    946              甲数除以乙数的商是1.5，如果甲数增加20，则甲数是乙的4倍．原来甲数=．   \n",
       "1  21227  客车和货车分别从A、B两站同时相向开出，5小时后相遇．相遇后，两车仍按原速度前进，当它们相距...   \n",
       "2  16892          图书角有书30本，第一天借出了(1/5)，第二天又还回5本，现在图书角有多少本书？   \n",
       "3   8502  甲、乙两车同时从相距230千米的两地相向而行，3小时后两车还相距35千米．已知甲车每小时行4...   \n",
       "4  23021                        果园里有苹果树300棵，比桔树多20%，桔树有多少棵？   \n",
       "\n",
       "                    equation  \\\n",
       "0           x=20/(4-1.5)*1.5   \n",
       "1  x=196/(80%+((3)/(3+2))-1)   \n",
       "2           x=30*(1-(1/5))+5   \n",
       "3            x=(230-35)/3-48   \n",
       "4              x=300/(1+20%)   \n",
       "\n",
       "                                      segmented_text  \\\n",
       "0  甲 数 除以 乙 数 的 商 是 1.5 ， 如果 甲 数 增加 20 ， 则 甲 数 是 ...   \n",
       "1  客车 和 货车 分别 从 A 、 B 两站 同时 相向 开出 ， 5 小时 后 相遇 ． 相...   \n",
       "2  图书 角 有 书 30 本 ， 第一天 借出 了 (1/5) ， 第 二 天 又 还 回 5...   \n",
       "3  甲 、 乙 两车 同时 从 相距 230 千米 的 两地 相向 而 行 ， 3 小时 后 两...   \n",
       "4        果园 里 有 苹果树 300 棵 ， 比 桔树 多 20% ， 桔树 有 多少 棵 ？   \n",
       "\n",
       "                                             content  word_count  \n",
       "0    [甲数, 除以, 乙数, 商是, 1.5, 甲数, 增加, 20, 甲数, 乙, 倍, 甲数]          24  \n",
       "1  [客车, 货车, A, B, 两站, 相向, 开出, 小时, 相遇, 相遇, 两车, 按原,...          63  \n",
       "2       [图书, 角有, 书, 30, 第一天, 借出, 第二天, 回, 图书, 角有, 本书]          28  \n",
       "3  [甲, 乙, 两车, 相距, 230, 千米, 两地, 相向, 而行, 小时, 两车, 相距...          38  \n",
       "4               [果园, 里, 苹果树, 300, 棵, 桔树, 20%, 桔树, 棵]          17  "
      ],
      "text/html": "<div>\n<style scoped>\n    .dataframe tbody tr th:only-of-type {\n        vertical-align: middle;\n    }\n\n    .dataframe tbody tr th {\n        vertical-align: top;\n    }\n\n    .dataframe thead th {\n        text-align: right;\n    }\n</style>\n<table border=\"1\" class=\"dataframe\">\n  <thead>\n    <tr style=\"text-align: right;\">\n      <th></th>\n      <th>id</th>\n      <th>original_text</th>\n      <th>equation</th>\n      <th>segmented_text</th>\n      <th>content</th>\n      <th>word_count</th>\n    </tr>\n  </thead>\n  <tbody>\n    <tr>\n      <th>0</th>\n      <td>946</td>\n      <td>甲数除以乙数的商是1.5，如果甲数增加20，则甲数是乙的4倍．原来甲数=．</td>\n      <td>x=20/(4-1.5)*1.5</td>\n      <td>甲 数 除以 乙 数 的 商 是 1.5 ， 如果 甲 数 增加 20 ， 则 甲 数 是 ...</td>\n      <td>[甲数, 除以, 乙数, 商是, 1.5, 甲数, 增加, 20, 甲数, 乙, 倍, 甲数]</td>\n      <td>24</td>\n    </tr>\n    <tr>\n      <th>1</th>\n      <td>21227</td>\n      <td>客车和货车分别从A、B两站同时相向开出，5小时后相遇．相遇后，两车仍按原速度前进，当它们相距...</td>\n      <td>x=196/(80%+((3)/(3+2))-1)</td>\n      <td>客车 和 货车 分别 从 A 、 B 两站 同时 相向 开出 ， 5 小时 后 相遇 ． 相...</td>\n      <td>[客车, 货车, A, B, 两站, 相向, 开出, 小时, 相遇, 相遇, 两车, 按原,...</td>\n      <td>63</td>\n    </tr>\n    <tr>\n      <th>2</th>\n      <td>16892</td>\n      <td>图书角有书30本，第一天借出了(1/5)，第二天又还回5本，现在图书角有多少本书？</td>\n      <td>x=30*(1-(1/5))+5</td>\n      <td>图书 角 有 书 30 本 ， 第一天 借出 了 (1/5) ， 第 二 天 又 还 回 5...</td>\n      <td>[图书, 角有, 书, 30, 第一天, 借出, 第二天, 回, 图书, 角有, 本书]</td>\n      <td>28</td>\n    </tr>\n    <tr>\n      <th>3</th>\n      <td>8502</td>\n      <td>甲、乙两车同时从相距230千米的两地相向而行，3小时后两车还相距35千米．已知甲车每小时行4...</td>\n      <td>x=(230-35)/3-48</td>\n      <td>甲 、 乙 两车 同时 从 相距 230 千米 的 两地 相向 而 行 ， 3 小时 后 两...</td>\n      <td>[甲, 乙, 两车, 相距, 230, 千米, 两地, 相向, 而行, 小时, 两车, 相距...</td>\n      <td>38</td>\n    </tr>\n    <tr>\n      <th>4</th>\n      <td>23021</td>\n      <td>果园里有苹果树300棵，比桔树多20%，桔树有多少棵？</td>\n      <td>x=300/(1+20%)</td>\n      <td>果园 里 有 苹果树 300 棵 ， 比 桔树 多 20% ， 桔树 有 多少 棵 ？</td>\n      <td>[果园, 里, 苹果树, 300, 棵, 桔树, 20%, 桔树, 棵]</td>\n      <td>17</td>\n    </tr>\n  </tbody>\n</table>\n</div>"
     },
     "metadata": {},
     "execution_count": 19
    }
   ],
   "source": [
    "def get_stopword():\n",
    "    s = set()\n",
    "    with open(\"../raw_data/stopword/stopword.txt\",\"r\",encoding=\"UTF-8\") as f:\n",
    "        for line in f:\n",
    "            s.add(line.strip())\n",
    "    return s\n",
    "\n",
    "def delete_stopword(words):\n",
    "    return [w for w in words if w not in stopword]\n",
    "\n",
    "stopword=get_stopword()\n",
    "data['content']=data['content'].apply(delete_stopword)\n",
    "data.head()"
   ]
  },
  {
   "cell_type": "code",
   "execution_count": 36,
   "metadata": {},
   "outputs": [
    {
     "output_type": "display_data",
     "data": {
      "application/vnd.plotly.v1+json": {
       "config": {
        "plotlyServerURL": "https://plot.ly"
       },
       "data": [
        {
         "alignmentgroup": "True",
         "hovertemplate": "word_count=%{x}<br>problem_count=%{y}<extra></extra>",
         "legendgroup": "",
         "marker": {
          "color": "#636efa"
         },
         "name": "",
         "offsetgroup": "",
         "orientation": "v",
         "showlegend": false,
         "textposition": "auto",
         "type": "bar",
         "x": [
          23,
          24,
          26,
          28,
          25,
          27,
          22,
          30,
          21,
          29,
          32,
          20,
          31,
          19,
          33,
          34,
          36,
          18,
          35,
          17,
          37,
          38,
          39,
          16,
          15,
          40,
          41,
          14,
          11,
          43,
          42,
          13,
          44,
          12,
          45,
          46,
          47,
          9,
          10,
          8,
          49,
          48,
          50,
          7,
          6,
          52,
          51,
          53,
          54,
          56,
          55,
          5,
          59,
          57,
          58,
          60,
          65,
          64,
          61,
          62,
          63,
          68,
          67,
          72,
          66,
          69,
          70,
          71,
          75,
          73,
          77,
          74,
          82,
          76,
          96,
          78,
          95,
          81,
          84,
          83,
          97,
          88,
          89,
          91,
          126,
          80,
          85,
          90,
          102,
          79,
          4
         ],
         "xaxis": "x",
         "y": [
          1027,
          973,
          957,
          942,
          932,
          921,
          849,
          848,
          848,
          831,
          757,
          713,
          684,
          678,
          632,
          602,
          561,
          545,
          543,
          469,
          423,
          397,
          376,
          375,
          367,
          311,
          290,
          281,
          244,
          240,
          236,
          223,
          192,
          189,
          161,
          146,
          130,
          119,
          114,
          106,
          93,
          91,
          70,
          68,
          61,
          61,
          59,
          45,
          39,
          37,
          37,
          28,
          25,
          25,
          20,
          16,
          14,
          13,
          13,
          11,
          11,
          10,
          8,
          8,
          7,
          7,
          6,
          5,
          4,
          3,
          3,
          3,
          3,
          3,
          3,
          2,
          2,
          2,
          2,
          1,
          1,
          1,
          1,
          1,
          1,
          1,
          1,
          1,
          1,
          1,
          1
         ],
         "yaxis": "y"
        }
       ],
       "layout": {
        "barmode": "relative",
        "legend": {
         "tracegroupgap": 0
        },
        "template": {
         "data": {
          "bar": [
           {
            "error_x": {
             "color": "#2a3f5f"
            },
            "error_y": {
             "color": "#2a3f5f"
            },
            "marker": {
             "line": {
              "color": "#E5ECF6",
              "width": 0.5
             }
            },
            "type": "bar"
           }
          ],
          "barpolar": [
           {
            "marker": {
             "line": {
              "color": "#E5ECF6",
              "width": 0.5
             }
            },
            "type": "barpolar"
           }
          ],
          "carpet": [
           {
            "aaxis": {
             "endlinecolor": "#2a3f5f",
             "gridcolor": "white",
             "linecolor": "white",
             "minorgridcolor": "white",
             "startlinecolor": "#2a3f5f"
            },
            "baxis": {
             "endlinecolor": "#2a3f5f",
             "gridcolor": "white",
             "linecolor": "white",
             "minorgridcolor": "white",
             "startlinecolor": "#2a3f5f"
            },
            "type": "carpet"
           }
          ],
          "choropleth": [
           {
            "colorbar": {
             "outlinewidth": 0,
             "ticks": ""
            },
            "type": "choropleth"
           }
          ],
          "contour": [
           {
            "colorbar": {
             "outlinewidth": 0,
             "ticks": ""
            },
            "colorscale": [
             [
              0,
              "#0d0887"
             ],
             [
              0.1111111111111111,
              "#46039f"
             ],
             [
              0.2222222222222222,
              "#7201a8"
             ],
             [
              0.3333333333333333,
              "#9c179e"
             ],
             [
              0.4444444444444444,
              "#bd3786"
             ],
             [
              0.5555555555555556,
              "#d8576b"
             ],
             [
              0.6666666666666666,
              "#ed7953"
             ],
             [
              0.7777777777777778,
              "#fb9f3a"
             ],
             [
              0.8888888888888888,
              "#fdca26"
             ],
             [
              1,
              "#f0f921"
             ]
            ],
            "type": "contour"
           }
          ],
          "contourcarpet": [
           {
            "colorbar": {
             "outlinewidth": 0,
             "ticks": ""
            },
            "type": "contourcarpet"
           }
          ],
          "heatmap": [
           {
            "colorbar": {
             "outlinewidth": 0,
             "ticks": ""
            },
            "colorscale": [
             [
              0,
              "#0d0887"
             ],
             [
              0.1111111111111111,
              "#46039f"
             ],
             [
              0.2222222222222222,
              "#7201a8"
             ],
             [
              0.3333333333333333,
              "#9c179e"
             ],
             [
              0.4444444444444444,
              "#bd3786"
             ],
             [
              0.5555555555555556,
              "#d8576b"
             ],
             [
              0.6666666666666666,
              "#ed7953"
             ],
             [
              0.7777777777777778,
              "#fb9f3a"
             ],
             [
              0.8888888888888888,
              "#fdca26"
             ],
             [
              1,
              "#f0f921"
             ]
            ],
            "type": "heatmap"
           }
          ],
          "heatmapgl": [
           {
            "colorbar": {
             "outlinewidth": 0,
             "ticks": ""
            },
            "colorscale": [
             [
              0,
              "#0d0887"
             ],
             [
              0.1111111111111111,
              "#46039f"
             ],
             [
              0.2222222222222222,
              "#7201a8"
             ],
             [
              0.3333333333333333,
              "#9c179e"
             ],
             [
              0.4444444444444444,
              "#bd3786"
             ],
             [
              0.5555555555555556,
              "#d8576b"
             ],
             [
              0.6666666666666666,
              "#ed7953"
             ],
             [
              0.7777777777777778,
              "#fb9f3a"
             ],
             [
              0.8888888888888888,
              "#fdca26"
             ],
             [
              1,
              "#f0f921"
             ]
            ],
            "type": "heatmapgl"
           }
          ],
          "histogram": [
           {
            "marker": {
             "colorbar": {
              "outlinewidth": 0,
              "ticks": ""
             }
            },
            "type": "histogram"
           }
          ],
          "histogram2d": [
           {
            "colorbar": {
             "outlinewidth": 0,
             "ticks": ""
            },
            "colorscale": [
             [
              0,
              "#0d0887"
             ],
             [
              0.1111111111111111,
              "#46039f"
             ],
             [
              0.2222222222222222,
              "#7201a8"
             ],
             [
              0.3333333333333333,
              "#9c179e"
             ],
             [
              0.4444444444444444,
              "#bd3786"
             ],
             [
              0.5555555555555556,
              "#d8576b"
             ],
             [
              0.6666666666666666,
              "#ed7953"
             ],
             [
              0.7777777777777778,
              "#fb9f3a"
             ],
             [
              0.8888888888888888,
              "#fdca26"
             ],
             [
              1,
              "#f0f921"
             ]
            ],
            "type": "histogram2d"
           }
          ],
          "histogram2dcontour": [
           {
            "colorbar": {
             "outlinewidth": 0,
             "ticks": ""
            },
            "colorscale": [
             [
              0,
              "#0d0887"
             ],
             [
              0.1111111111111111,
              "#46039f"
             ],
             [
              0.2222222222222222,
              "#7201a8"
             ],
             [
              0.3333333333333333,
              "#9c179e"
             ],
             [
              0.4444444444444444,
              "#bd3786"
             ],
             [
              0.5555555555555556,
              "#d8576b"
             ],
             [
              0.6666666666666666,
              "#ed7953"
             ],
             [
              0.7777777777777778,
              "#fb9f3a"
             ],
             [
              0.8888888888888888,
              "#fdca26"
             ],
             [
              1,
              "#f0f921"
             ]
            ],
            "type": "histogram2dcontour"
           }
          ],
          "mesh3d": [
           {
            "colorbar": {
             "outlinewidth": 0,
             "ticks": ""
            },
            "type": "mesh3d"
           }
          ],
          "parcoords": [
           {
            "line": {
             "colorbar": {
              "outlinewidth": 0,
              "ticks": ""
             }
            },
            "type": "parcoords"
           }
          ],
          "pie": [
           {
            "automargin": true,
            "type": "pie"
           }
          ],
          "scatter": [
           {
            "marker": {
             "colorbar": {
              "outlinewidth": 0,
              "ticks": ""
             }
            },
            "type": "scatter"
           }
          ],
          "scatter3d": [
           {
            "line": {
             "colorbar": {
              "outlinewidth": 0,
              "ticks": ""
             }
            },
            "marker": {
             "colorbar": {
              "outlinewidth": 0,
              "ticks": ""
             }
            },
            "type": "scatter3d"
           }
          ],
          "scattercarpet": [
           {
            "marker": {
             "colorbar": {
              "outlinewidth": 0,
              "ticks": ""
             }
            },
            "type": "scattercarpet"
           }
          ],
          "scattergeo": [
           {
            "marker": {
             "colorbar": {
              "outlinewidth": 0,
              "ticks": ""
             }
            },
            "type": "scattergeo"
           }
          ],
          "scattergl": [
           {
            "marker": {
             "colorbar": {
              "outlinewidth": 0,
              "ticks": ""
             }
            },
            "type": "scattergl"
           }
          ],
          "scattermapbox": [
           {
            "marker": {
             "colorbar": {
              "outlinewidth": 0,
              "ticks": ""
             }
            },
            "type": "scattermapbox"
           }
          ],
          "scatterpolar": [
           {
            "marker": {
             "colorbar": {
              "outlinewidth": 0,
              "ticks": ""
             }
            },
            "type": "scatterpolar"
           }
          ],
          "scatterpolargl": [
           {
            "marker": {
             "colorbar": {
              "outlinewidth": 0,
              "ticks": ""
             }
            },
            "type": "scatterpolargl"
           }
          ],
          "scatterternary": [
           {
            "marker": {
             "colorbar": {
              "outlinewidth": 0,
              "ticks": ""
             }
            },
            "type": "scatterternary"
           }
          ],
          "surface": [
           {
            "colorbar": {
             "outlinewidth": 0,
             "ticks": ""
            },
            "colorscale": [
             [
              0,
              "#0d0887"
             ],
             [
              0.1111111111111111,
              "#46039f"
             ],
             [
              0.2222222222222222,
              "#7201a8"
             ],
             [
              0.3333333333333333,
              "#9c179e"
             ],
             [
              0.4444444444444444,
              "#bd3786"
             ],
             [
              0.5555555555555556,
              "#d8576b"
             ],
             [
              0.6666666666666666,
              "#ed7953"
             ],
             [
              0.7777777777777778,
              "#fb9f3a"
             ],
             [
              0.8888888888888888,
              "#fdca26"
             ],
             [
              1,
              "#f0f921"
             ]
            ],
            "type": "surface"
           }
          ],
          "table": [
           {
            "cells": {
             "fill": {
              "color": "#EBF0F8"
             },
             "line": {
              "color": "white"
             }
            },
            "header": {
             "fill": {
              "color": "#C8D4E3"
             },
             "line": {
              "color": "white"
             }
            },
            "type": "table"
           }
          ]
         },
         "layout": {
          "annotationdefaults": {
           "arrowcolor": "#2a3f5f",
           "arrowhead": 0,
           "arrowwidth": 1
          },
          "autotypenumbers": "strict",
          "coloraxis": {
           "colorbar": {
            "outlinewidth": 0,
            "ticks": ""
           }
          },
          "colorscale": {
           "diverging": [
            [
             0,
             "#8e0152"
            ],
            [
             0.1,
             "#c51b7d"
            ],
            [
             0.2,
             "#de77ae"
            ],
            [
             0.3,
             "#f1b6da"
            ],
            [
             0.4,
             "#fde0ef"
            ],
            [
             0.5,
             "#f7f7f7"
            ],
            [
             0.6,
             "#e6f5d0"
            ],
            [
             0.7,
             "#b8e186"
            ],
            [
             0.8,
             "#7fbc41"
            ],
            [
             0.9,
             "#4d9221"
            ],
            [
             1,
             "#276419"
            ]
           ],
           "sequential": [
            [
             0,
             "#0d0887"
            ],
            [
             0.1111111111111111,
             "#46039f"
            ],
            [
             0.2222222222222222,
             "#7201a8"
            ],
            [
             0.3333333333333333,
             "#9c179e"
            ],
            [
             0.4444444444444444,
             "#bd3786"
            ],
            [
             0.5555555555555556,
             "#d8576b"
            ],
            [
             0.6666666666666666,
             "#ed7953"
            ],
            [
             0.7777777777777778,
             "#fb9f3a"
            ],
            [
             0.8888888888888888,
             "#fdca26"
            ],
            [
             1,
             "#f0f921"
            ]
           ],
           "sequentialminus": [
            [
             0,
             "#0d0887"
            ],
            [
             0.1111111111111111,
             "#46039f"
            ],
            [
             0.2222222222222222,
             "#7201a8"
            ],
            [
             0.3333333333333333,
             "#9c179e"
            ],
            [
             0.4444444444444444,
             "#bd3786"
            ],
            [
             0.5555555555555556,
             "#d8576b"
            ],
            [
             0.6666666666666666,
             "#ed7953"
            ],
            [
             0.7777777777777778,
             "#fb9f3a"
            ],
            [
             0.8888888888888888,
             "#fdca26"
            ],
            [
             1,
             "#f0f921"
            ]
           ]
          },
          "colorway": [
           "#636efa",
           "#EF553B",
           "#00cc96",
           "#ab63fa",
           "#FFA15A",
           "#19d3f3",
           "#FF6692",
           "#B6E880",
           "#FF97FF",
           "#FECB52"
          ],
          "font": {
           "color": "#2a3f5f"
          },
          "geo": {
           "bgcolor": "white",
           "lakecolor": "white",
           "landcolor": "#E5ECF6",
           "showlakes": true,
           "showland": true,
           "subunitcolor": "white"
          },
          "hoverlabel": {
           "align": "left"
          },
          "hovermode": "closest",
          "mapbox": {
           "style": "light"
          },
          "paper_bgcolor": "white",
          "plot_bgcolor": "#E5ECF6",
          "polar": {
           "angularaxis": {
            "gridcolor": "white",
            "linecolor": "white",
            "ticks": ""
           },
           "bgcolor": "#E5ECF6",
           "radialaxis": {
            "gridcolor": "white",
            "linecolor": "white",
            "ticks": ""
           }
          },
          "scene": {
           "xaxis": {
            "backgroundcolor": "#E5ECF6",
            "gridcolor": "white",
            "gridwidth": 2,
            "linecolor": "white",
            "showbackground": true,
            "ticks": "",
            "zerolinecolor": "white"
           },
           "yaxis": {
            "backgroundcolor": "#E5ECF6",
            "gridcolor": "white",
            "gridwidth": 2,
            "linecolor": "white",
            "showbackground": true,
            "ticks": "",
            "zerolinecolor": "white"
           },
           "zaxis": {
            "backgroundcolor": "#E5ECF6",
            "gridcolor": "white",
            "gridwidth": 2,
            "linecolor": "white",
            "showbackground": true,
            "ticks": "",
            "zerolinecolor": "white"
           }
          },
          "shapedefaults": {
           "line": {
            "color": "#2a3f5f"
           }
          },
          "ternary": {
           "aaxis": {
            "gridcolor": "white",
            "linecolor": "white",
            "ticks": ""
           },
           "baxis": {
            "gridcolor": "white",
            "linecolor": "white",
            "ticks": ""
           },
           "bgcolor": "#E5ECF6",
           "caxis": {
            "gridcolor": "white",
            "linecolor": "white",
            "ticks": ""
           }
          },
          "title": {
           "x": 0.05
          },
          "xaxis": {
           "automargin": true,
           "gridcolor": "white",
           "linecolor": "white",
           "ticks": "",
           "title": {
            "standoff": 15
           },
           "zerolinecolor": "white",
           "zerolinewidth": 2
          },
          "yaxis": {
           "automargin": true,
           "gridcolor": "white",
           "linecolor": "white",
           "ticks": "",
           "title": {
            "standoff": 15
           },
           "zerolinecolor": "white",
           "zerolinewidth": 2
          }
         }
        },
        "title": {
         "text": "The length of problems"
        },
        "xaxis": {
         "anchor": "y",
         "domain": [
          0,
          1
         ],
         "title": {
          "text": "word_count"
         }
        },
        "yaxis": {
         "anchor": "x",
         "domain": [
          0,
          1
         ],
         "title": {
          "text": "problem_count"
         }
        }
       }
      }
     },
     "metadata": {}
    }
   ],
   "source": [
    "cnt = data['word_count'].value_counts().reset_index()\n",
    "cnt.columns = [ 'word_count' , 'problem_count']\n",
    "\n",
    "fig = px.bar(\n",
    "    cnt , x = 'word_count', y = 'problem_count' ,\n",
    "    title = 'The length of problems'\n",
    ")\n",
    "fig.show()"
   ]
  },
  {
   "cell_type": "code",
   "execution_count": null,
   "metadata": {},
   "outputs": [],
   "source": []
  }
 ]
}