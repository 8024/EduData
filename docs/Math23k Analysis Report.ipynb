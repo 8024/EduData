{
 "metadata": {
  "language_info": {
   "codemirror_mode": {
    "name": "ipython",
    "version": 3
   },
   "file_extension": ".py",
   "mimetype": "text/x-python",
   "name": "python",
   "nbconvert_exporter": "python",
   "pygments_lexer": "ipython3",
   "version": "3.8.8"
  },
  "orig_nbformat": 2,
  "kernelspec": {
   "name": "python3",
   "display_name": "Python 3",
   "language": "python"
  }
 },
 "nbformat": 4,
 "nbformat_minor": 2,
 "cells": [
  {
   "source": [
    "# Math23k Analysis Report"
   ],
   "cell_type": "markdown",
   "metadata": {}
  },
  {
   "source": [
    "## Data Description\n",
    "| Field             | Annotation                                          |\n",
    "| --------          | --------------------------------------------------- |\n",
    "| id                | Id of the problem |\n",
    "| original_text\t    | Original text of the problem |\n",
    "| equation          | Solution to the problem |\n",
    "| segmented_text    | Chinese word segmentation of the problem |\n"
   ],
   "cell_type": "markdown",
   "metadata": {}
  },
  {
   "cell_type": "code",
   "execution_count": 14,
   "metadata": {},
   "outputs": [],
   "source": [
    "import numpy as np\n",
    "import pandas as pd\n",
    "import jieba\n",
    "\n",
    "import plotly.express as px\n",
    "from plotly.subplots import make_subplots\n",
    "import plotly.graph_objs as go"
   ]
  },
  {
   "cell_type": "code",
   "execution_count": 15,
   "metadata": {},
   "outputs": [],
   "source": [
    "path = \"../raw_data/math23k/raw/train23k.json\"\n",
    "\n",
    "data = pd.read_json(path, orient='records')"
   ]
  },
  {
   "source": [
    "## Record Examples"
   ],
   "cell_type": "markdown",
   "metadata": {}
  },
  {
   "cell_type": "code",
   "execution_count": 39,
   "metadata": {},
   "outputs": [
    {
     "output_type": "execute_result",
     "data": {
      "text/plain": [
       "      id                                      original_text  \\\n",
       "0    946              甲数除以乙数的商是1.5，如果甲数增加20，则甲数是乙的4倍．原来甲数=．   \n",
       "1  21227  客车和货车分别从A、B两站同时相向开出，5小时后相遇．相遇后，两车仍按原速度前进，当它们相距...   \n",
       "2  16892          图书角有书30本，第一天借出了(1/5)，第二天又还回5本，现在图书角有多少本书？   \n",
       "3   8502  甲、乙两车同时从相距230千米的两地相向而行，3小时后两车还相距35千米．已知甲车每小时行4...   \n",
       "4  23021                        果园里有苹果树300棵，比桔树多20%，桔树有多少棵？   \n",
       "\n",
       "                    equation  \\\n",
       "0           x=20/(4-1.5)*1.5   \n",
       "1  x=196/(80%+((3)/(3+2))-1)   \n",
       "2           x=30*(1-(1/5))+5   \n",
       "3            x=(230-35)/3-48   \n",
       "4              x=300/(1+20%)   \n",
       "\n",
       "                                      segmented_text  \n",
       "0  甲 数 除以 乙 数 的 商 是 1.5 ， 如果 甲 数 增加 20 ， 则 甲 数 是 ...  \n",
       "1  客车 和 货车 分别 从 A 、 B 两站 同时 相向 开出 ， 5 小时 后 相遇 ． 相...  \n",
       "2  图书 角 有 书 30 本 ， 第一天 借出 了 (1/5) ， 第 二 天 又 还 回 5...  \n",
       "3  甲 、 乙 两车 同时 从 相距 230 千米 的 两地 相向 而 行 ， 3 小时 后 两...  \n",
       "4        果园 里 有 苹果树 300 棵 ， 比 桔树 多 20% ， 桔树 有 多少 棵 ？  "
      ],
      "text/html": "<div>\n<style scoped>\n    .dataframe tbody tr th:only-of-type {\n        vertical-align: middle;\n    }\n\n    .dataframe tbody tr th {\n        vertical-align: top;\n    }\n\n    .dataframe thead th {\n        text-align: right;\n    }\n</style>\n<table border=\"1\" class=\"dataframe\">\n  <thead>\n    <tr style=\"text-align: right;\">\n      <th></th>\n      <th>id</th>\n      <th>original_text</th>\n      <th>equation</th>\n      <th>segmented_text</th>\n    </tr>\n  </thead>\n  <tbody>\n    <tr>\n      <th>0</th>\n      <td>946</td>\n      <td>甲数除以乙数的商是1.5，如果甲数增加20，则甲数是乙的4倍．原来甲数=．</td>\n      <td>x=20/(4-1.5)*1.5</td>\n      <td>甲 数 除以 乙 数 的 商 是 1.5 ， 如果 甲 数 增加 20 ， 则 甲 数 是 ...</td>\n    </tr>\n    <tr>\n      <th>1</th>\n      <td>21227</td>\n      <td>客车和货车分别从A、B两站同时相向开出，5小时后相遇．相遇后，两车仍按原速度前进，当它们相距...</td>\n      <td>x=196/(80%+((3)/(3+2))-1)</td>\n      <td>客车 和 货车 分别 从 A 、 B 两站 同时 相向 开出 ， 5 小时 后 相遇 ． 相...</td>\n    </tr>\n    <tr>\n      <th>2</th>\n      <td>16892</td>\n      <td>图书角有书30本，第一天借出了(1/5)，第二天又还回5本，现在图书角有多少本书？</td>\n      <td>x=30*(1-(1/5))+5</td>\n      <td>图书 角 有 书 30 本 ， 第一天 借出 了 (1/5) ， 第 二 天 又 还 回 5...</td>\n    </tr>\n    <tr>\n      <th>3</th>\n      <td>8502</td>\n      <td>甲、乙两车同时从相距230千米的两地相向而行，3小时后两车还相距35千米．已知甲车每小时行4...</td>\n      <td>x=(230-35)/3-48</td>\n      <td>甲 、 乙 两车 同时 从 相距 230 千米 的 两地 相向 而 行 ， 3 小时 后 两...</td>\n    </tr>\n    <tr>\n      <th>4</th>\n      <td>23021</td>\n      <td>果园里有苹果树300棵，比桔树多20%，桔树有多少棵？</td>\n      <td>x=300/(1+20%)</td>\n      <td>果园 里 有 苹果树 300 棵 ， 比 桔树 多 20% ， 桔树 有 多少 棵 ？</td>\n    </tr>\n  </tbody>\n</table>\n</div>"
     },
     "metadata": {},
     "execution_count": 39
    }
   ],
   "source": [
    "data.head()"
   ]
  },
  {
   "cell_type": "code",
   "execution_count": 40,
   "metadata": {},
   "outputs": [
    {
     "output_type": "execute_result",
     "data": {
      "text/plain": [
       "                 id\n",
       "count  21162.000000\n",
       "mean   11591.289434\n",
       "std     6692.866886\n",
       "min        1.000000\n",
       "25%     5801.250000\n",
       "50%    11579.500000\n",
       "75%    17383.750000\n",
       "max    23162.000000"
      ],
      "text/html": "<div>\n<style scoped>\n    .dataframe tbody tr th:only-of-type {\n        vertical-align: middle;\n    }\n\n    .dataframe tbody tr th {\n        vertical-align: top;\n    }\n\n    .dataframe thead th {\n        text-align: right;\n    }\n</style>\n<table border=\"1\" class=\"dataframe\">\n  <thead>\n    <tr style=\"text-align: right;\">\n      <th></th>\n      <th>id</th>\n    </tr>\n  </thead>\n  <tbody>\n    <tr>\n      <th>count</th>\n      <td>21162.000000</td>\n    </tr>\n    <tr>\n      <th>mean</th>\n      <td>11591.289434</td>\n    </tr>\n    <tr>\n      <th>std</th>\n      <td>6692.866886</td>\n    </tr>\n    <tr>\n      <th>min</th>\n      <td>1.000000</td>\n    </tr>\n    <tr>\n      <th>25%</th>\n      <td>5801.250000</td>\n    </tr>\n    <tr>\n      <th>50%</th>\n      <td>11579.500000</td>\n    </tr>\n    <tr>\n      <th>75%</th>\n      <td>17383.750000</td>\n    </tr>\n    <tr>\n      <th>max</th>\n      <td>23162.000000</td>\n    </tr>\n  </tbody>\n</table>\n</div>"
     },
     "metadata": {},
     "execution_count": 40
    }
   ],
   "source": [
    "data.describe()"
   ]
  },
  {
   "source": [
    "## The number of problems"
   ],
   "cell_type": "markdown",
   "metadata": {}
  },
  {
   "cell_type": "code",
   "execution_count": 41,
   "metadata": {},
   "outputs": [
    {
     "output_type": "execute_result",
     "data": {
      "text/plain": [
       "21162"
      ]
     },
     "metadata": {},
     "execution_count": 41
    }
   ],
   "source": [
    "len(data['id'].unique())"
   ]
  },
  {
   "source": [
    "## Part of missing values for every column"
   ],
   "cell_type": "markdown",
   "metadata": {}
  },
  {
   "cell_type": "code",
   "execution_count": 42,
   "metadata": {},
   "outputs": [
    {
     "output_type": "execute_result",
     "data": {
      "text/plain": [
       "id                0.0\n",
       "original_text     0.0\n",
       "equation          0.0\n",
       "segmented_text    0.0\n",
       "dtype: float64"
      ]
     },
     "metadata": {},
     "execution_count": 42
    }
   ],
   "source": [
    "data.isnull().sum() / len(data)"
   ]
  },
  {
   "cell_type": "code",
   "execution_count": 18,
   "metadata": {},
   "outputs": [
    {
     "output_type": "stream",
     "name": "stderr",
     "text": [
      "Building prefix dict from the default dictionary ...\n",
      "Dumping model to file cache C:\\Users\\THY\\AppData\\Local\\Temp\\jieba.cache\n",
      "Loading model cost 0.868 seconds.\n",
      "Prefix dict has been built succesfully.\n"
     ]
    },
    {
     "output_type": "execute_result",
     "data": {
      "text/plain": [
       "      id                                      original_text  \\\n",
       "0    946              甲数除以乙数的商是1.5，如果甲数增加20，则甲数是乙的4倍．原来甲数=．   \n",
       "1  21227  客车和货车分别从A、B两站同时相向开出，5小时后相遇．相遇后，两车仍按原速度前进，当它们相距...   \n",
       "2  16892          图书角有书30本，第一天借出了(1/5)，第二天又还回5本，现在图书角有多少本书？   \n",
       "3   8502  甲、乙两车同时从相距230千米的两地相向而行，3小时后两车还相距35千米．已知甲车每小时行4...   \n",
       "4  23021                        果园里有苹果树300棵，比桔树多20%，桔树有多少棵？   \n",
       "\n",
       "                    equation  \\\n",
       "0           x=20/(4-1.5)*1.5   \n",
       "1  x=196/(80%+((3)/(3+2))-1)   \n",
       "2           x=30*(1-(1/5))+5   \n",
       "3            x=(230-35)/3-48   \n",
       "4              x=300/(1+20%)   \n",
       "\n",
       "                                      segmented_text  \\\n",
       "0  甲 数 除以 乙 数 的 商 是 1.5 ， 如果 甲 数 增加 20 ， 则 甲 数 是 ...   \n",
       "1  客车 和 货车 分别 从 A 、 B 两站 同时 相向 开出 ， 5 小时 后 相遇 ． 相...   \n",
       "2  图书 角 有 书 30 本 ， 第一天 借出 了 (1/5) ， 第 二 天 又 还 回 5...   \n",
       "3  甲 、 乙 两车 同时 从 相距 230 千米 的 两地 相向 而 行 ， 3 小时 后 两...   \n",
       "4        果园 里 有 苹果树 300 棵 ， 比 桔树 多 20% ， 桔树 有 多少 棵 ？   \n",
       "\n",
       "                                             content  \n",
       "0  [甲数, 除以, 乙数, 的, 商是, 1.5, ，, 如果, 甲数, 增加, 20, ，,...  \n",
       "1  [客车, 和, 货车, 分别, 从, A, 、, B, 两站, 同时, 相向, 开出, ，,...  \n",
       "2  [图书, 角有, 书, 30, 本, ，, 第一天, 借出, 了, (, 1, /, 5, ...  \n",
       "3  [甲, 、, 乙, 两车, 同时, 从, 相距, 230, 千米, 的, 两地, 相向, 而...  \n",
       "4  [果园, 里, 有, 苹果树, 300, 棵, ，, 比, 桔树, 多, 20%, ，, 桔...  "
      ],
      "text/html": "<div>\n<style scoped>\n    .dataframe tbody tr th:only-of-type {\n        vertical-align: middle;\n    }\n\n    .dataframe tbody tr th {\n        vertical-align: top;\n    }\n\n    .dataframe thead th {\n        text-align: right;\n    }\n</style>\n<table border=\"1\" class=\"dataframe\">\n  <thead>\n    <tr style=\"text-align: right;\">\n      <th></th>\n      <th>id</th>\n      <th>original_text</th>\n      <th>equation</th>\n      <th>segmented_text</th>\n      <th>content</th>\n    </tr>\n  </thead>\n  <tbody>\n    <tr>\n      <th>0</th>\n      <td>946</td>\n      <td>甲数除以乙数的商是1.5，如果甲数增加20，则甲数是乙的4倍．原来甲数=．</td>\n      <td>x=20/(4-1.5)*1.5</td>\n      <td>甲 数 除以 乙 数 的 商 是 1.5 ， 如果 甲 数 增加 20 ， 则 甲 数 是 ...</td>\n      <td>[甲数, 除以, 乙数, 的, 商是, 1.5, ，, 如果, 甲数, 增加, 20, ，,...</td>\n    </tr>\n    <tr>\n      <th>1</th>\n      <td>21227</td>\n      <td>客车和货车分别从A、B两站同时相向开出，5小时后相遇．相遇后，两车仍按原速度前进，当它们相距...</td>\n      <td>x=196/(80%+((3)/(3+2))-1)</td>\n      <td>客车 和 货车 分别 从 A 、 B 两站 同时 相向 开出 ， 5 小时 后 相遇 ． 相...</td>\n      <td>[客车, 和, 货车, 分别, 从, A, 、, B, 两站, 同时, 相向, 开出, ，,...</td>\n    </tr>\n    <tr>\n      <th>2</th>\n      <td>16892</td>\n      <td>图书角有书30本，第一天借出了(1/5)，第二天又还回5本，现在图书角有多少本书？</td>\n      <td>x=30*(1-(1/5))+5</td>\n      <td>图书 角 有 书 30 本 ， 第一天 借出 了 (1/5) ， 第 二 天 又 还 回 5...</td>\n      <td>[图书, 角有, 书, 30, 本, ，, 第一天, 借出, 了, (, 1, /, 5, ...</td>\n    </tr>\n    <tr>\n      <th>3</th>\n      <td>8502</td>\n      <td>甲、乙两车同时从相距230千米的两地相向而行，3小时后两车还相距35千米．已知甲车每小时行4...</td>\n      <td>x=(230-35)/3-48</td>\n      <td>甲 、 乙 两车 同时 从 相距 230 千米 的 两地 相向 而 行 ， 3 小时 后 两...</td>\n      <td>[甲, 、, 乙, 两车, 同时, 从, 相距, 230, 千米, 的, 两地, 相向, 而...</td>\n    </tr>\n    <tr>\n      <th>4</th>\n      <td>23021</td>\n      <td>果园里有苹果树300棵，比桔树多20%，桔树有多少棵？</td>\n      <td>x=300/(1+20%)</td>\n      <td>果园 里 有 苹果树 300 棵 ， 比 桔树 多 20% ， 桔树 有 多少 棵 ？</td>\n      <td>[果园, 里, 有, 苹果树, 300, 棵, ，, 比, 桔树, 多, 20%, ，, 桔...</td>\n    </tr>\n  </tbody>\n</table>\n</div>"
     },
     "metadata": {},
     "execution_count": 18
    }
   ],
   "source": [
    "def cut_word(text):\n",
    "    return jieba.lcut(text)\n",
    "data['content']=data['original_text'].apply(cut_word)\n",
    "data.head()"
   ]
  },
  {
   "source": [
    "## delete stopword"
   ],
   "cell_type": "markdown",
   "metadata": {}
  },
  {
   "cell_type": "code",
   "execution_count": 19,
   "metadata": {},
   "outputs": [
    {
     "output_type": "execute_result",
     "data": {
      "text/plain": [
       "      id                                      original_text  \\\n",
       "0    946              甲数除以乙数的商是1.5，如果甲数增加20，则甲数是乙的4倍．原来甲数=．   \n",
       "1  21227  客车和货车分别从A、B两站同时相向开出，5小时后相遇．相遇后，两车仍按原速度前进，当它们相距...   \n",
       "2  16892          图书角有书30本，第一天借出了(1/5)，第二天又还回5本，现在图书角有多少本书？   \n",
       "3   8502  甲、乙两车同时从相距230千米的两地相向而行，3小时后两车还相距35千米．已知甲车每小时行4...   \n",
       "4  23021                        果园里有苹果树300棵，比桔树多20%，桔树有多少棵？   \n",
       "\n",
       "                    equation  \\\n",
       "0           x=20/(4-1.5)*1.5   \n",
       "1  x=196/(80%+((3)/(3+2))-1)   \n",
       "2           x=30*(1-(1/5))+5   \n",
       "3            x=(230-35)/3-48   \n",
       "4              x=300/(1+20%)   \n",
       "\n",
       "                                      segmented_text  \\\n",
       "0  甲 数 除以 乙 数 的 商 是 1.5 ， 如果 甲 数 增加 20 ， 则 甲 数 是 ...   \n",
       "1  客车 和 货车 分别 从 A 、 B 两站 同时 相向 开出 ， 5 小时 后 相遇 ． 相...   \n",
       "2  图书 角 有 书 30 本 ， 第一天 借出 了 (1/5) ， 第 二 天 又 还 回 5...   \n",
       "3  甲 、 乙 两车 同时 从 相距 230 千米 的 两地 相向 而 行 ， 3 小时 后 两...   \n",
       "4        果园 里 有 苹果树 300 棵 ， 比 桔树 多 20% ， 桔树 有 多少 棵 ？   \n",
       "\n",
       "                                             content  \n",
       "0    [甲数, 除以, 乙数, 商是, 1.5, 甲数, 增加, 20, 甲数, 乙, 倍, 甲数]  \n",
       "1  [客车, 货车, A, B, 两站, 相向, 开出, 小时, 相遇, 相遇, 两车, 按原,...  \n",
       "2       [图书, 角有, 书, 30, 第一天, 借出, 第二天, 回, 图书, 角有, 本书]  \n",
       "3  [甲, 乙, 两车, 相距, 230, 千米, 两地, 相向, 而行, 小时, 两车, 相距...  \n",
       "4               [果园, 里, 苹果树, 300, 棵, 桔树, 20%, 桔树, 棵]  "
      ],
      "text/html": "<div>\n<style scoped>\n    .dataframe tbody tr th:only-of-type {\n        vertical-align: middle;\n    }\n\n    .dataframe tbody tr th {\n        vertical-align: top;\n    }\n\n    .dataframe thead th {\n        text-align: right;\n    }\n</style>\n<table border=\"1\" class=\"dataframe\">\n  <thead>\n    <tr style=\"text-align: right;\">\n      <th></th>\n      <th>id</th>\n      <th>original_text</th>\n      <th>equation</th>\n      <th>segmented_text</th>\n      <th>content</th>\n    </tr>\n  </thead>\n  <tbody>\n    <tr>\n      <th>0</th>\n      <td>946</td>\n      <td>甲数除以乙数的商是1.5，如果甲数增加20，则甲数是乙的4倍．原来甲数=．</td>\n      <td>x=20/(4-1.5)*1.5</td>\n      <td>甲 数 除以 乙 数 的 商 是 1.5 ， 如果 甲 数 增加 20 ， 则 甲 数 是 ...</td>\n      <td>[甲数, 除以, 乙数, 商是, 1.5, 甲数, 增加, 20, 甲数, 乙, 倍, 甲数]</td>\n    </tr>\n    <tr>\n      <th>1</th>\n      <td>21227</td>\n      <td>客车和货车分别从A、B两站同时相向开出，5小时后相遇．相遇后，两车仍按原速度前进，当它们相距...</td>\n      <td>x=196/(80%+((3)/(3+2))-1)</td>\n      <td>客车 和 货车 分别 从 A 、 B 两站 同时 相向 开出 ， 5 小时 后 相遇 ． 相...</td>\n      <td>[客车, 货车, A, B, 两站, 相向, 开出, 小时, 相遇, 相遇, 两车, 按原,...</td>\n    </tr>\n    <tr>\n      <th>2</th>\n      <td>16892</td>\n      <td>图书角有书30本，第一天借出了(1/5)，第二天又还回5本，现在图书角有多少本书？</td>\n      <td>x=30*(1-(1/5))+5</td>\n      <td>图书 角 有 书 30 本 ， 第一天 借出 了 (1/5) ， 第 二 天 又 还 回 5...</td>\n      <td>[图书, 角有, 书, 30, 第一天, 借出, 第二天, 回, 图书, 角有, 本书]</td>\n    </tr>\n    <tr>\n      <th>3</th>\n      <td>8502</td>\n      <td>甲、乙两车同时从相距230千米的两地相向而行，3小时后两车还相距35千米．已知甲车每小时行4...</td>\n      <td>x=(230-35)/3-48</td>\n      <td>甲 、 乙 两车 同时 从 相距 230 千米 的 两地 相向 而 行 ， 3 小时 后 两...</td>\n      <td>[甲, 乙, 两车, 相距, 230, 千米, 两地, 相向, 而行, 小时, 两车, 相距...</td>\n    </tr>\n    <tr>\n      <th>4</th>\n      <td>23021</td>\n      <td>果园里有苹果树300棵，比桔树多20%，桔树有多少棵？</td>\n      <td>x=300/(1+20%)</td>\n      <td>果园 里 有 苹果树 300 棵 ， 比 桔树 多 20% ， 桔树 有 多少 棵 ？</td>\n      <td>[果园, 里, 苹果树, 300, 棵, 桔树, 20%, 桔树, 棵]</td>\n    </tr>\n  </tbody>\n</table>\n</div>"
     },
     "metadata": {},
     "execution_count": 19
    }
   ],
   "source": [
    "\n",
    "def get_stopword():\n",
    "    s = set()\n",
    "    with open(\"../raw_data/stopword/stopword.txt\",\"r\",encoding=\"UTF-8\") as f:\n",
    "        for line in f:\n",
    "            s.add(line.strip())\n",
    "    return s\n",
    "\n",
    "def delete_stopword(words):\n",
    "    return [w for w in words if w not in stopword]\n",
    "\n",
    "stopword=get_stopword()\n",
    "data['content']=data['content'].apply(delete_stopword)\n",
    "data.head()"
   ]
  },
  {
   "source": [
    "## Count of words of problems"
   ],
   "cell_type": "markdown",
   "metadata": {}
  },
  {
   "cell_type": "code",
   "execution_count": 40,
   "metadata": {},
   "outputs": [
    {
     "output_type": "execute_result",
     "data": {
      "text/plain": [
       "      id                                      original_text  \\\n",
       "0    946              甲数除以乙数的商是1.5，如果甲数增加20，则甲数是乙的4倍．原来甲数=．   \n",
       "1  21227  客车和货车分别从A、B两站同时相向开出，5小时后相遇．相遇后，两车仍按原速度前进，当它们相距...   \n",
       "2  16892          图书角有书30本，第一天借出了(1/5)，第二天又还回5本，现在图书角有多少本书？   \n",
       "3   8502  甲、乙两车同时从相距230千米的两地相向而行，3小时后两车还相距35千米．已知甲车每小时行4...   \n",
       "4  23021                        果园里有苹果树300棵，比桔树多20%，桔树有多少棵？   \n",
       "\n",
       "                    equation  \\\n",
       "0           x=20/(4-1.5)*1.5   \n",
       "1  x=196/(80%+((3)/(3+2))-1)   \n",
       "2           x=30*(1-(1/5))+5   \n",
       "3            x=(230-35)/3-48   \n",
       "4              x=300/(1+20%)   \n",
       "\n",
       "                                      segmented_text  \\\n",
       "0  甲 数 除以 乙 数 的 商 是 1.5 ， 如果 甲 数 增加 20 ， 则 甲 数 是 ...   \n",
       "1  客车 和 货车 分别 从 A 、 B 两站 同时 相向 开出 ， 5 小时 后 相遇 ． 相...   \n",
       "2  图书 角 有 书 30 本 ， 第一天 借出 了 (1/5) ， 第 二 天 又 还 回 5...   \n",
       "3  甲 、 乙 两车 同时 从 相距 230 千米 的 两地 相向 而 行 ， 3 小时 后 两...   \n",
       "4        果园 里 有 苹果树 300 棵 ， 比 桔树 多 20% ， 桔树 有 多少 棵 ？   \n",
       "\n",
       "                                             content  word_count  \n",
       "0    [甲数, 除以, 乙数, 商是, 1.5, 甲数, 增加, 20, 甲数, 乙, 倍, 甲数]          12  \n",
       "1  [客车, 货车, A, B, 两站, 相向, 开出, 小时, 相遇, 相遇, 两车, 按原,...          33  \n",
       "2       [图书, 角有, 书, 30, 第一天, 借出, 第二天, 回, 图书, 角有, 本书]          11  \n",
       "3  [甲, 乙, 两车, 相距, 230, 千米, 两地, 相向, 而行, 小时, 两车, 相距...          24  \n",
       "4               [果园, 里, 苹果树, 300, 棵, 桔树, 20%, 桔树, 棵]           9  "
      ],
      "text/html": "<div>\n<style scoped>\n    .dataframe tbody tr th:only-of-type {\n        vertical-align: middle;\n    }\n\n    .dataframe tbody tr th {\n        vertical-align: top;\n    }\n\n    .dataframe thead th {\n        text-align: right;\n    }\n</style>\n<table border=\"1\" class=\"dataframe\">\n  <thead>\n    <tr style=\"text-align: right;\">\n      <th></th>\n      <th>id</th>\n      <th>original_text</th>\n      <th>equation</th>\n      <th>segmented_text</th>\n      <th>content</th>\n      <th>word_count</th>\n    </tr>\n  </thead>\n  <tbody>\n    <tr>\n      <th>0</th>\n      <td>946</td>\n      <td>甲数除以乙数的商是1.5，如果甲数增加20，则甲数是乙的4倍．原来甲数=．</td>\n      <td>x=20/(4-1.5)*1.5</td>\n      <td>甲 数 除以 乙 数 的 商 是 1.5 ， 如果 甲 数 增加 20 ， 则 甲 数 是 ...</td>\n      <td>[甲数, 除以, 乙数, 商是, 1.5, 甲数, 增加, 20, 甲数, 乙, 倍, 甲数]</td>\n      <td>12</td>\n    </tr>\n    <tr>\n      <th>1</th>\n      <td>21227</td>\n      <td>客车和货车分别从A、B两站同时相向开出，5小时后相遇．相遇后，两车仍按原速度前进，当它们相距...</td>\n      <td>x=196/(80%+((3)/(3+2))-1)</td>\n      <td>客车 和 货车 分别 从 A 、 B 两站 同时 相向 开出 ， 5 小时 后 相遇 ． 相...</td>\n      <td>[客车, 货车, A, B, 两站, 相向, 开出, 小时, 相遇, 相遇, 两车, 按原,...</td>\n      <td>33</td>\n    </tr>\n    <tr>\n      <th>2</th>\n      <td>16892</td>\n      <td>图书角有书30本，第一天借出了(1/5)，第二天又还回5本，现在图书角有多少本书？</td>\n      <td>x=30*(1-(1/5))+5</td>\n      <td>图书 角 有 书 30 本 ， 第一天 借出 了 (1/5) ， 第 二 天 又 还 回 5...</td>\n      <td>[图书, 角有, 书, 30, 第一天, 借出, 第二天, 回, 图书, 角有, 本书]</td>\n      <td>11</td>\n    </tr>\n    <tr>\n      <th>3</th>\n      <td>8502</td>\n      <td>甲、乙两车同时从相距230千米的两地相向而行，3小时后两车还相距35千米．已知甲车每小时行4...</td>\n      <td>x=(230-35)/3-48</td>\n      <td>甲 、 乙 两车 同时 从 相距 230 千米 的 两地 相向 而 行 ， 3 小时 后 两...</td>\n      <td>[甲, 乙, 两车, 相距, 230, 千米, 两地, 相向, 而行, 小时, 两车, 相距...</td>\n      <td>24</td>\n    </tr>\n    <tr>\n      <th>4</th>\n      <td>23021</td>\n      <td>果园里有苹果树300棵，比桔树多20%，桔树有多少棵？</td>\n      <td>x=300/(1+20%)</td>\n      <td>果园 里 有 苹果树 300 棵 ， 比 桔树 多 20% ， 桔树 有 多少 棵 ？</td>\n      <td>[果园, 里, 苹果树, 300, 棵, 桔树, 20%, 桔树, 棵]</td>\n      <td>9</td>\n    </tr>\n  </tbody>\n</table>\n</div>"
     },
     "metadata": {},
     "execution_count": 40
    }
   ],
   "source": [
    "def getsize(ser):\n",
    "    return len(ser)\n",
    "\n",
    "data['word_count']=data['content'].apply(getsize)\n",
    "data.head()"
   ]
  },
  {
   "cell_type": "code",
   "execution_count": null,
   "metadata": {},
   "outputs": [],
   "source": []
  }
 ]
}